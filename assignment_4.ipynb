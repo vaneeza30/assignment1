{
 "cells": [
  {
   "cell_type": "code",
   "execution_count": 2,
   "metadata": {},
   "outputs": [
    {
     "name": "stdout",
     "output_type": "stream",
     "text": [
      "{'first_nam': 'Abdullah', 'last_name': 'Tariq', 'Age': 20, 'city': 'karachi'}\n",
      "{'first_nam': 'Abdullah', 'last_name': 'Tariq', 'Age': 20, 'city': 'karachi', 'Qualification': 'matric'}\n",
      "{'first_nam': 'Abdullah', 'last_name': 'Tariq', 'Age': 20, 'city': 'karachi', 'Qualification': 'Bachlors in engineering'}\n",
      "{'first_nam': 'Abdullah', 'last_name': 'Tariq', 'Age': 20, 'city': 'karachi'}\n"
     ]
    }
   ],
   "source": [
    "person_info =  {\n",
    "        \"first_nam\" : \"Abdullah\",\n",
    "    \n",
    "        \"last_name\" : \"Tariq\",\n",
    "    \n",
    "        \"Age\"       : 20,\n",
    "    \n",
    "        \"city\"      : \"karachi\"\n",
    "    }\n",
    "print(person_info)\n",
    "person_info[\"Qualification\"]='matric'\n",
    "print(person_info)\n",
    "person_info[\"Qualification\"]='Bachlors in engineering'\n",
    "print(person_info)\n",
    "del person_info[\"Qualification\"]\n",
    "\n",
    "print(person_info)"
   ]
  },
  {
   "cell_type": "code",
   "execution_count": 11,
   "metadata": {},
   "outputs": [
    {
     "name": "stdout",
     "output_type": "stream",
     "text": [
      "{'Berlin': {'country': 'Germany', 'Population': '3.556792 million', 'fact': 'It has more bridges than Venice'}, 'Istanbul': {'country': 'Turkey', 'Population': '14.968 million', 'fact': 'It is the only city in the world that is straddiling between the two continents,Asia and Europe'}, 'Paris': {'country': 'France', 'Population': '2.14 million', 'fact': 'Plaster of paris was invented in Paris'}}\n"
     ]
    }
   ],
   "source": [
    "#program to make different cities' dictionaries\n",
    "cities={\n",
    "    \"Berlin\":{\n",
    "        \"country\"    : 'Germany',\n",
    "        \n",
    "        \"Population\" : '3.556792 million',\n",
    "        \n",
    "        \"fact\"       : \"It has more bridges than Venice\"\n",
    "    },\n",
    "    \"Istanbul\":{\n",
    "        \"country\"    : 'Turkey',\n",
    "        \n",
    "        \"Population\" : '14.968 million', \n",
    "        \n",
    "        \"fact\"       : \"It is the only city in the world that is straddiling between the two continents,Asia and Europe\"\n",
    "    },\n",
    "    \"Paris\":{\n",
    "        \"country\"    : 'France',\n",
    "        \n",
    "        \"Population\" : '2.14 million',\n",
    "        \n",
    "        \"fact\"       : 'Plaster of paris was invented in Paris'\n",
    "    }\n",
    "}\n",
    "print(cities)"
   ]
  },
  {
   "cell_type": "code",
   "execution_count": 8,
   "metadata": {},
   "outputs": [
    {
     "name": "stdout",
     "output_type": "stream",
     "text": [
      "Enter your age to know about your ticket price:20\n",
      "Your ticket cost is 15$\n"
     ]
    }
   ],
   "source": [
    "#movie ticket price according to person age\n",
    "\n",
    "age=int(input('Enter your age to know about your ticket price:'))\n",
    "\n",
    "if age<=3 :\n",
    "    print('Ticket is free for you' )\n",
    "    \n",
    "elif age>3 and age<=12 :\n",
    "    print('Your ticket cost is 10$')\n",
    "    \n",
    "else:\n",
    "    print('Your ticket cost is 15$')"
   ]
  },
  {
   "cell_type": "code",
   "execution_count": 9,
   "metadata": {},
   "outputs": [
    {
     "name": "stdout",
     "output_type": "stream",
     "text": [
      "One of my favorite book is Alice in Wonderland\n"
     ]
    }
   ],
   "source": [
    "#program to call function favorite_book\n",
    "\n",
    "def favorite_book(title):\n",
    "    \n",
    "    print('One of my favorite book is '+ title)\n",
    "    \n",
    "favorite_book('Alice in Wonderland')    "
   ]
  },
  {
   "cell_type": "code",
   "execution_count": 18,
   "metadata": {},
   "outputs": [
    {
     "name": "stdout",
     "output_type": "stream",
     "text": [
      "Hello! What is your name?\n",
      "vaneeza\n",
      "Well, vaneeza, I am thinking of a number between 1 and 30.\n",
      "Guess the number.\n",
      "6\n",
      "Guessed number is less than the hidden number.\n",
      "Guess the number.\n",
      "15\n",
      "Good job, vaneeza! You guessed my number in 2 guesses!\n"
     ]
    }
   ],
   "source": [
    "#Guess the number game\n",
    "import random\n",
    "guessesTaken = 0\n",
    "\n",
    "print('Hello! What is your name?')\n",
    "\n",
    "myName = input()\n",
    "\n",
    "number = random.randint(1, 30)\n",
    "\n",
    "print('Well, ' + myName + ', I am thinking of a number between 1 and 30.')\n",
    "\n",
    "\n",
    "while guessesTaken < 3:\n",
    "    print('Guess the number.')\n",
    "    guess = int(input())\n",
    "\n",
    "    guessesTaken = guessesTaken + 1\n",
    "\n",
    "    if guess < number:\n",
    "        print('Guessed number is less than the hidden number.') \n",
    "\n",
    "    elif guess > number:\n",
    "        print('Guessed number is greater than the hidden number.')\n",
    "\n",
    "    elif guess == number:\n",
    "\n",
    "        break\n",
    "\n",
    "if guess == number:\n",
    "    guessesTaken = str(guessesTaken)\n",
    "    print('Good job, ' + myName + '! You guessed my number in ' + guessesTaken + ' guesses!')\n",
    "    \n",
    "if guess != number:\n",
    "    number = str(number)\n",
    "    print('Nope. The number I was thinking of was ' + number)\n",
    "    "
   ]
  },
  {
   "cell_type": "code",
   "execution_count": 23,
   "metadata": {},
   "outputs": [
    {
     "name": "stdout",
     "output_type": "stream",
     "text": [
      "1:Which of the following is an islamic country?\n",
      "Pakistan\n",
      "USA\n",
      "UAE\n",
      "Africa\n",
      "Pakistan\n",
      "2:which of the following is the Largest city of Pakistan?\n",
      "Islamabad\n",
      "Karachi\n",
      "Quetta\n",
      "Lahore\n",
      "Karachi\n",
      "3:Which of the following is the capital of Pakistan?\n",
      "Islamabad\n",
      "Karachi\n",
      "Quetta\n",
      "Rawalpindi\n",
      "Islamabad\n",
      "4:Which provice of pakistan is thickly populated?\n",
      "Balochistan\n",
      "KPK\n",
      "Sindh\n",
      "Punjab\n",
      "Punjab\n",
      "5:Which is the largest province of Pakistan geographically?\n",
      "Balochistan\n",
      "KPK\n",
      "Sindh\n",
      "Punjab\n",
      "Balochistan\n",
      "your score is :5\n",
      "Percentage =  100.0\n",
      "Welldone! You have correctly answered all questions.\n"
     ]
    }
   ],
   "source": [
    "#Quiz Application\n",
    "quiz = [\n",
    "    {\n",
    "        \"S.no.\"      : 1,\n",
    "        \"Question\"   : \"Which of the following is an islamic country?\",\n",
    "        \"Options\"    : [\"Pakistan\",\"USA\",\"UAE\",\"Africa\"],\n",
    "        \"Answer\"     : \"Pakistan\" \n",
    "    },\n",
    "    {\n",
    "        \"S.no.\"      : 2,\n",
    "        \"Question\"   : \"which of the following is the Largest city of Pakistan?\",\n",
    "        \"Options\"    : [\"Islamabad\",\"Karachi\",\"Quetta\",\"Lahore\"],\n",
    "        \"Answer\"     : \"Karachi\"\n",
    "    },\n",
    "    {\n",
    "        \"S.no.\"      : 3,\n",
    "        \"Question\"   : \"Which of the following is the capital of Pakistan?\",\n",
    "        \"Options\"    : [\"Islamabad\",\"Karachi\",\"Quetta\",\"Rawalpindi\"],\n",
    "        \"Answer\"     : \"Islamabad\" \n",
    "    },\n",
    "    {\n",
    "        \"S.no.\"      : 4,\n",
    "        \"Question\"   : \"Which provice of pakistan is thickly populated?\",\n",
    "        \"Options\"    : [\"Balochistan\",\"KPK\",\"Sindh\",\"Punjab\"],\n",
    "        \"Answer\"     : \"Punjab\" \n",
    "    },\n",
    "    {\n",
    "        \"S.no.\"      : 5,\n",
    "        \"Question\"   : \"Which is the largest province of Pakistan geographically?\",\n",
    "        \"Options\"    : [\"Balochistan\",\"KPK\",\"Sindh\",\"Punjab\"],\n",
    "        \"Answer\"     : \"Balochistan\"\n",
    "    }       \n",
    "]\n",
    "score = 0\n",
    "for Question in quiz:\n",
    "    data = str(Question[\"S.no.\"]) +\": \"+ Question[\"Question\"] +\"\\n\"+ Question[\"Options\"][0] +\"\\n\"+ Question[\"Options\"][1] +\"\\n\"+ Question[\"Options\"][2] +\"\\n\"+ Question[\"Options\"][3] +\"\\n\"\n",
    "    Answer = input(data)\n",
    "    if Answer == Question[\"Answer\"]:\n",
    "               score += 1\n",
    "print(\"your score is :\" + str(score))\n",
    "total=len(quiz)\n",
    "per = (score/total)*100\n",
    "print(\"Percentage = \",per)\n",
    "if per==100:\n",
    "    print('Welldone! You have correctly answered all questions.')\n"
   ]
  },
  {
   "cell_type": "markdown",
   "metadata": {},
   "source": []
  }
 ],
 "metadata": {
  "kernelspec": {
   "display_name": "Python 3",
   "language": "python",
   "name": "python3"
  },
  "language_info": {
   "codemirror_mode": {
    "name": "ipython",
    "version": 3
   },
   "file_extension": ".py",
   "mimetype": "text/x-python",
   "name": "python",
   "nbconvert_exporter": "python",
   "pygments_lexer": "ipython3",
   "version": "3.7.4"
  }
 },
 "nbformat": 4,
 "nbformat_minor": 2
}
