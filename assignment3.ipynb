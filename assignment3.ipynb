{
 "cells": [
  {
   "cell_type": "code",
   "execution_count": 5,
   "metadata": {},
   "outputs": [
    {
     "name": "stdout",
     "output_type": "stream",
     "text": [
      "Enter first number: 89\n",
      "Enter second number: 3\n",
      "Enter operator: **\n",
      "704969 answer\n"
     ]
    }
   ],
   "source": [
    "#Program to make an arithmetic calculator\n",
    "n1=int(input('Enter first number: '))\n",
    "n2=int(input('Enter second number: '))\n",
    "op=input('Enter operator: ')\n",
    "if op=='+':\n",
    "    n=n1+n2\n",
    "    print(n,'answer')\n",
    "elif op=='-':\n",
    "    n=n1-n2\n",
    "    print(n,'answer')  \n",
    "elif op=='*':\n",
    "    n=n1*n2\n",
    "    print(n,'answer')  \n",
    "elif op=='/':\n",
    "    n=n1/n2\n",
    "    print(n,'answer') \n",
    "elif op=='**':\n",
    "    n=n1**n2\n",
    "    print(n,'answer')\n",
    "else:\n",
    "    print('Please enter correct operator')"
   ]
  },
  {
   "cell_type": "code",
   "execution_count": 12,
   "metadata": {},
   "outputs": [
    {
     "name": "stdout",
     "output_type": "stream",
     "text": [
      "Numeric values in list:[16, 14, 32]\n"
     ]
    }
   ],
   "source": [
    "#To find numeric value from list\n",
    "list=['oxygen.16','nitrogen.14','sulpher.32']\n",
    "chem=[int(sub.split('.')[1]) for sub in list]\n",
    "print('Numeric values in list:'+str(chem))"
   ]
  },
  {
   "cell_type": "code",
   "execution_count": 8,
   "metadata": {},
   "outputs": [
    {
     "name": "stdout",
     "output_type": "stream",
     "text": [
      "current dictionary is:  {'Pakistan': 'urdu', 'England': 'English', 'Japan': 'Japnees'}\n",
      "current dictionary is:  {'Pakistan': 'urdu', 'England': 'English', 'Japan': 'Japnees', 'Saudi Arabia': 'arabic'}\n"
     ]
    }
   ],
   "source": [
    "#Add KEY to dictionary\n",
    "languages={\n",
    "    \"Pakistan\" : \"urdu\",\n",
    "    \"England\" : \"English\",\n",
    "    \"Japan\" : \"Japnees\"\n",
    "}\n",
    "print('current dictionary is: ',languages)\n",
    "#adding key\n",
    "languages[\"Saudi Arabia\"]='arabic'\n",
    "print('current dictionary is: ',languages)\n"
   ]
  },
  {
   "cell_type": "code",
   "execution_count": 11,
   "metadata": {},
   "outputs": [
    {
     "name": "stdout",
     "output_type": "stream",
     "text": [
      "sum :  158\n"
     ]
    }
   ],
   "source": [
    "#Program to sum all numbers in dictionary\n",
    "dictionary={'a':12, 'b':56, 'c':90}\n",
    "sum=0\n",
    "for i in dictionary.values():\n",
    "    sum=sum+i\n",
    "print(\"sum : \",sum)    "
   ]
  },
  {
   "cell_type": "code",
   "execution_count": 16,
   "metadata": {},
   "outputs": [
    {
     "name": "stdout",
     "output_type": "stream",
     "text": [
      "Duplicate numbers are:  [1, 8, 6]\n"
     ]
    }
   ],
   "source": [
    "#program to find duplicate values from list\n",
    "list1=[1,9,8,2,20,7,8,6,5,1,6,60,46]\n",
    "def repeat(x):\n",
    "    size=len(x)\n",
    "    repeated=[]\n",
    "    for i in range(size):\n",
    "        k=i+1\n",
    "        for j in range(k,size):\n",
    "            if x[i]==x[j] and x[i] not in repeated:\n",
    "                repeated.append(x[i])\n",
    "    return repeated\n",
    "print('Duplicate numbers are: ',repeat(list1))"
   ]
  },
  {
   "cell_type": "code",
   "execution_count": 22,
   "metadata": {},
   "outputs": [
    {
     "name": "stdout",
     "output_type": "stream",
     "text": [
      "Key Exist in list \n",
      "value = 200\n",
      "Key does not exist\n"
     ]
    }
   ],
   "source": [
    "#program to check existing key in dictionary\n",
    "dict = {'a': 100, 'b':200, 'c':300} \n",
    "def checkExistingKey(dict, key): \n",
    "      \n",
    "    if key in dict.keys(): \n",
    "        print(\"Key Exist in list \") \n",
    "        print(\"value =\", dict[key]) \n",
    "    else: \n",
    "        print(\"Key does not exist\") \n",
    "  \n",
    "key = 'b'\n",
    "checkExistingKey(dict, key) \n",
    "  \n",
    "key = 'v'\n",
    "checkExistingKey(dict, key)\n"
   ]
  },
  {
   "cell_type": "code",
   "execution_count": null,
   "metadata": {},
   "outputs": [],
   "source": []
  }
 ],
 "metadata": {
  "kernelspec": {
   "display_name": "Python 3",
   "language": "python",
   "name": "python3"
  },
  "language_info": {
   "codemirror_mode": {
    "name": "ipython",
    "version": 3
   },
   "file_extension": ".py",
   "mimetype": "text/x-python",
   "name": "python",
   "nbconvert_exporter": "python",
   "pygments_lexer": "ipython3",
   "version": "3.7.4"
  }
 },
 "nbformat": 4,
 "nbformat_minor": 2
}
