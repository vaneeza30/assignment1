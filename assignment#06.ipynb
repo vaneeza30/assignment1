{
 "cells": [
  {
   "cell_type": "markdown",
   "metadata": {},
   "source": [
    "Question 1:\n",
    "Define Object Oriented Programming Language?\n",
    "\n",
    "Object-oriented programming (OOP) refers to a type of computer programming (software design) in which programmers define the data type of a data structure, and also the types of operations (functions) that can be applied to the data structure.\n",
    "In this way, the data structure becomes an object that includes both data and functions. In addition, programmers can create relationships between one object and another. For example, objects can inherit characteristics from other objects.\n"
   ]
  },
  {
   "cell_type": "markdown",
   "metadata": {},
   "source": [
    "Question 2:\n",
    "List down the Benefits of OOP?\n",
    "\n",
    "Benifits of OOP:\n",
    "1. Simplicity: software objects model real world objects, so the complexity is reduced and the program structure is very clear; \n",
    "2. Modularity: each object forms a separate entity whose internal workings are decoupled from other parts of the system; \n",
    "3. Modifiability: it is easy to make minor changes in the data representation or the procedures in an OO program. Changes inside a class do not affect any other part of a program, since the only public interface that the external world has to a class is through the use of methods; \n",
    "4. Extensibility: adding new features or responding to changing operating environments can be solved by introducing a few new objects and modifying some existing ones; \n",
    "5. Maintainability: objects can be maintained separately, making locating and fixing problems easier; \n",
    "6. Re-usability: objects can be reused in different programs."
   ]
  },
  {
   "cell_type": "markdown",
   "metadata": {},
   "source": [
    "Question 3:\n",
    "Differentiate between function and method?\n",
    "\n",
    "A function is a group of reusable code which can be called anywhere in your program. This eliminates the need for writing the same code again and again. It helps programmers in writing modular codes.\n",
    "\n",
    "A method is a function define inside the body of a class.it is used to define the behaviors of an object. In most respects it is identical to a function except for two key differences:\n",
    "\n",
    "   i.A method is implicitly passed the object on which it was called.\n",
    "   ii.A method is able to operate on data that is contained within the class (remembering that an object is an instance of a         class - the class is the definition, the object is an instance of that data)."
   ]
  },
  {
   "cell_type": "markdown",
   "metadata": {},
   "source": [
    "Question 4:\n",
    "Define the following terms:\n",
    "1. Class\n",
    "    A category of objects. The class defines all the common properties of the different objects that belong to it.\n",
    "2. Object\n",
    "    A self-contained entity that consists of both data and procedures to manipulate the data.\n",
    "3. Attribute\n",
    "    Attributes are the characteristics of the class that help to distinguish it from other classes\n",
    "4. Behavior\n",
    "    Behaviors are the tasks that an object performs."
   ]
  },
  {
   "cell_type": "code",
   "execution_count": null,
   "metadata": {},
   "outputs": [],
   "source": [
    "# QUESTION NO 05\n",
    "class Car():\n",
    "    def __init__(self,name,model,colour):\n",
    "        self.name   = name\n",
    "        self.model  = model\n",
    "        self.colour = colour\n",
    "    def manufacturer(self):\n",
    "        print(\"toyota\")\n",
    "    def doors(self):\n",
    "        print(5)\n",
    "Mycar = Car('Wish',2004,\"silver\")\n",
    "print(Mycar.name)\n",
    "print(Mycar.model)\n",
    "print(Mycar.colour)\n",
    "Mycar.manufacturer()\n",
    "Mycar.doors()"
   ]
  }
 ],
 "metadata": {
  "kernelspec": {
   "display_name": "Python 3",
   "language": "python",
   "name": "python3"
  },
  "language_info": {
   "codemirror_mode": {
    "name": "ipython",
    "version": 3
   },
   "file_extension": ".py",
   "mimetype": "text/x-python",
   "name": "python",
   "nbconvert_exporter": "python",
   "pygments_lexer": "ipython3",
   "version": "3.7.4"
  }
 },
 "nbformat": 4,
 "nbformat_minor": 2
}
